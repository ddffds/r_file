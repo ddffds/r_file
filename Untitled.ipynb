{
 "cells": [
  {
   "cell_type": "code",
   "execution_count": 1,
   "id": "34947c1d",
   "metadata": {},
   "outputs": [],
   "source": [
    "import os\n",
    "import zipfile\n",
    "import random\n",
    "import shutil\n",
    "import tensorflow as tf\n",
    "from tensorflow.keras.preprocessing.image import ImageDataGenerator\n",
    "from shutil import copyfile\n",
    "import matplotlib.pyplot as plt"
   ]
  },
  {
   "cell_type": "code",
   "execution_count": 6,
   "id": "e7e0dafd",
   "metadata": {},
   "outputs": [],
   "source": [
    "import numpy as np \n",
    "import pandas as pd "
   ]
  },
  {
   "cell_type": "code",
   "execution_count": 6,
   "id": "73e6d420",
   "metadata": {},
   "outputs": [
    {
     "name": "stdout",
     "output_type": "stream",
     "text": [
      "There are 12470 images of dogs.\n",
      "There are 12491 images of cats.\n"
     ]
    }
   ],
   "source": [
    "source_path = r'C:\\Users\\USER\\Desktop\\python\\PetImages'\n",
    "source_path_dogs = os.path.join(source_path, 'Dog')\n",
    "source_path_cats = os.path.join(source_path, 'Cat')\n",
    "print(f\"There are {len(os.listdir(source_path_dogs))} images of dogs.\")\n",
    "print(f\"There are {len(os.listdir(source_path_cats))} images of cats.\")"
   ]
  },
  {
   "cell_type": "code",
   "execution_count": 5,
   "id": "e8ecc41c",
   "metadata": {},
   "outputs": [],
   "source": [
    "root_dir = r'C:\\Users\\USER\\Desktop\\python\\cats-v-dogs'\n",
    "if os.path.exists(root_dir):\n",
    "  shutil.rmtree(root_dir)\n",
    "\n",
    "def create_train_val_dirs(root_path):\n",
    "  \"\"\"\n",
    "  Creates directories for the train and test sets\n",
    "  \"\"\"  \n",
    "  os.makedirs(root_path, 493 )\n",
    "  train_dir = os.path.join(root_path, 'training')\n",
    "  os.makedirs(train_dir, 493 )\n",
    "  validation_dir = os.path.join(root_path, 'validation')\n",
    "  os.makedirs(validation_dir, 493)\n",
    "  train_cats_dir = os.path.join(train_dir, 'cats')\n",
    "  os.makedirs(train_cats_dir, 493)\n",
    "  train_dogs_dir = os.path.join(train_dir, 'dogs')\n",
    "  os.makedirs(train_dogs_dir, 493)\n",
    "  validation_cats_dir = os.path.join(validation_dir, 'cats')\n",
    "  os.makedirs(validation_cats_dir, 493)\n",
    "  validation_dogs_dir = os.path.join(validation_dir, 'dogs')\n",
    "  os.makedirs(validation_dogs_dir, 493)\n",
    "  \n",
    "try:\n",
    "  create_train_val_dirs(root_path=root_dir)\n",
    "except FileExistsError:\n",
    "  print(\"You should not be seeing this since the upper directory is removed beforehand\")"
   ]
  },
  {
   "cell_type": "code",
   "execution_count": 7,
   "id": "61e12ff8",
   "metadata": {},
   "outputs": [
    {
     "name": "stdout",
     "output_type": "stream",
     "text": [
      "C:\\Users\\USER\\Desktop\\python\\cats-v-dogs\\training\n",
      "C:\\Users\\USER\\Desktop\\python\\cats-v-dogs\\validation\n",
      "C:\\Users\\USER\\Desktop\\python\\cats-v-dogs\\training\\cats\n",
      "C:\\Users\\USER\\Desktop\\python\\cats-v-dogs\\training\\dogs\n",
      "C:\\Users\\USER\\Desktop\\python\\cats-v-dogs\\validation\\cats\n",
      "C:\\Users\\USER\\Desktop\\python\\cats-v-dogs\\validation\\dogs\n"
     ]
    }
   ],
   "source": [
    "for rootdir, dirs, files in os.walk(root_dir):\n",
    "  for subdir in dirs:\n",
    "    print(os.path.join(rootdir, subdir))"
   ]
  },
  {
   "cell_type": "code",
   "execution_count": 8,
   "id": "9ac2da7f",
   "metadata": {},
   "outputs": [],
   "source": [
    "def split_data(SOURCE_DIR, TRAINING_DIR, VALIDATION_DIR, SPLIT_SIZE):\n",
    "  \"\"\"\n",
    "  Splits the data into train and test sets\n",
    "  \"\"\"\n",
    "  length = len([name for name in os.listdir(SOURCE_DIR)])\n",
    "  newlength = int(length*SPLIT_SIZE)\n",
    "  count = 1\n",
    "  randomshuffle = random.sample([name for name in os.listdir(SOURCE_DIR)], length)\n",
    "  for file in randomshuffle:\n",
    "    size = os.path.getsize((os.path.join(SOURCE_DIR, file)))\n",
    "    if(size>0):\n",
    "      if(count<=newlength):\n",
    "        copyfile((os.path.join(SOURCE_DIR, file)), (os.path.join(TRAINING_DIR, file)))\n",
    "      else:\n",
    "        copyfile((os.path.join(SOURCE_DIR, file)), (os.path.join(VALIDATION_DIR, file)))\n",
    "    else:\n",
    "      print(file+\" is zero length, so ignoring.\")\n",
    "    count=count+1"
   ]
  },
  {
   "cell_type": "code",
   "execution_count": 9,
   "id": "d748c4c7",
   "metadata": {},
   "outputs": [
    {
     "name": "stdout",
     "output_type": "stream",
     "text": [
      "\n",
      "\n",
      "Original cat's directory has 12491 images\n",
      "Original dog's directory has 12470 images\n",
      "\n",
      "There are 11241 images of cats for training\n",
      "There are 11223 images of dogs for training\n",
      "There are 1250 images of cats for validation\n",
      "There are 1247 images of dogs for validation\n"
     ]
    }
   ],
   "source": [
    "CAT_SOURCE_DIR = r\"C:\\Users\\USER\\Desktop\\python\\PetImages\\Cat\"\n",
    "DOG_SOURCE_DIR = r\"C:\\Users\\USER\\Desktop\\python\\PetImages\\Dog\"\n",
    "\n",
    "TRAINING_DIR = r\"C:\\Users\\USER\\Desktop\\python\\cats-v-dogs\\training\"\n",
    "VALIDATION_DIR = r\"C:\\Users\\USER\\Desktop\\python\\cats-v-dogs\\validation\"\n",
    "\n",
    "\n",
    "TRAINING_CATS_DIR = os.path.join(TRAINING_DIR, r\"C:\\Users\\USER\\Desktop\\python\\cats-v-dogs\\training\\cats\")\n",
    "VALIDATION_CATS_DIR = os.path.join(VALIDATION_DIR, r\"C:\\Users\\USER\\Desktop\\python\\cats-v-dogs\\validation\\cats\")\n",
    "\n",
    "TRAINING_DOGS_DIR = os.path.join(TRAINING_DIR, r\"C:\\Users\\USER\\Desktop\\python\\cats-v-dogs\\training\\dogs\")\n",
    "VALIDATION_DOGS_DIR = os.path.join(VALIDATION_DIR, r\"C:\\Users\\USER\\Desktop\\python\\cats-v-dogs\\validation\\dogs\")\n",
    "\n",
    "\n",
    "# Empty directories in case you run this cell multiple times\n",
    "if len(os.listdir(TRAINING_CATS_DIR)) > 0:\n",
    "  for file in os.scandir(TRAINING_CATS_DIR):\n",
    "    os.remove(file.path)\n",
    "if len(os.listdir(TRAINING_DOGS_DIR)) > 0:\n",
    "  for file in os.scandir(TRAINING_DOGS_DIR):\n",
    "    os.remove(file.path)\n",
    "if len(os.listdir(VALIDATION_CATS_DIR)) > 0:\n",
    "  for file in os.scandir(VALIDATION_CATS_DIR):\n",
    "    os.remove(file.path)\n",
    "if len(os.listdir(VALIDATION_DOGS_DIR)) > 0:\n",
    "  for file in os.scandir(VALIDATION_DOGS_DIR):\n",
    "    os.remove(file.path)\n",
    "    \n",
    "# Define proportion of images used for training\n",
    "split_size = .9\n",
    "\n",
    "# Run the function\n",
    "split_data(CAT_SOURCE_DIR, TRAINING_CATS_DIR, VALIDATION_CATS_DIR, split_size)\n",
    "split_data(DOG_SOURCE_DIR, TRAINING_DOGS_DIR, VALIDATION_DOGS_DIR, split_size)\n",
    "\n",
    "# Check that the number of images matches the expected output\n",
    "\n",
    "# Your function should perform copies rather than moving images so original directories should contain unchanged images\n",
    "print(f\"\\n\\nOriginal cat's directory has {len(os.listdir(CAT_SOURCE_DIR))} images\")\n",
    "print(f\"Original dog's directory has {len(os.listdir(DOG_SOURCE_DIR))} images\\n\")\n",
    "\n",
    "# Training and validation splits\n",
    "print(f\"There are {len(os.listdir(TRAINING_CATS_DIR))} images of cats for training\")\n",
    "print(f\"There are {len(os.listdir(TRAINING_DOGS_DIR))} images of dogs for training\")\n",
    "print(f\"There are {len(os.listdir(VALIDATION_CATS_DIR))} images of cats for validation\")\n",
    "print(f\"There are {len(os.listdir(VALIDATION_DOGS_DIR))} images of dogs for validation\")"
   ]
  },
  {
   "cell_type": "code",
   "execution_count": 10,
   "id": "731963be",
   "metadata": {},
   "outputs": [],
   "source": [
    "def train_val_generators(TRAINING_DIR, VALIDATION_DIR):\n",
    "  \"\"\"\n",
    "  Creates the training and validation data generators\n",
    "  \"\"\"\n",
    "\n",
    "  # Instantiate the ImageDataGenerator class\n",
    "  train_datagen = ImageDataGenerator(rescale=1/255)\n",
    "\n",
    "  # Pass in the appropiate arguments to the flow_from_directory method\n",
    "  train_generator = train_datagen.flow_from_directory(directory=TRAINING_DIR,\n",
    "                                                      batch_size=20,\n",
    "                                                      class_mode='binary',\n",
    "                                                      target_size=(150, 150))\n",
    "\n",
    "  # Instantiate the ImageDataGenerator class\n",
    "  validation_datagen = ImageDataGenerator(rescale=1/255)\n",
    "\n",
    "  # Pass in the appropiate arguments to the flow_from_directory method\n",
    "  validation_generator = validation_datagen.flow_from_directory(directory=VALIDATION_DIR,\n",
    "                                                                batch_size=20,\n",
    "                                                                class_mode='binary',\n",
    "                                                                target_size=(150, 150))\n",
    "  return train_generator, validation_generator"
   ]
  },
  {
   "cell_type": "code",
   "execution_count": null,
   "id": "ee14c6fd",
   "metadata": {},
   "outputs": [],
   "source": []
  },
  {
   "cell_type": "code",
   "execution_count": 13,
   "id": "f6208843",
   "metadata": {},
   "outputs": [
    {
     "name": "stdout",
     "output_type": "stream",
     "text": [
      "Found 22462 images belonging to 2 classes.\n",
      "Found 2497 images belonging to 2 classes.\n"
     ]
    }
   ],
   "source": [
    "train_generator, validation_generator = train_val_generators(TRAINING_DIR, VALIDATION_DIR)"
   ]
  },
  {
   "cell_type": "code",
   "execution_count": 15,
   "id": "2ffd5153",
   "metadata": {},
   "outputs": [],
   "source": [
    "def create_model():\n",
    "  # DEFINE A KERAS MODEL TO CLASSIFY CATS V DOGS\n",
    "\n",
    "  model = tf.keras.models.Sequential([ \n",
    "      tf.keras.layers.Conv2D(16, (3,3), activation='relu', input_shape=(150, 150, 3)),\n",
    "      tf.keras.layers.MaxPooling2D(2,2),\n",
    "      tf.keras.layers.Conv2D(32, (3,3), activation='relu'),\n",
    "      tf.keras.layers.MaxPooling2D(2,2), \n",
    "      tf.keras.layers.Conv2D(64, (3,3), activation='relu'), \n",
    "      tf.keras.layers.MaxPooling2D(2,2),\n",
    "      tf.keras.layers.Conv2D(128, (3,3), activation='relu'), \n",
    "      tf.keras.layers.MaxPooling2D(2,2),\n",
    "      tf.keras.layers.Flatten(),\n",
    "      tf.keras.layers.Dense(512, activation='relu'),\n",
    "      tf.keras.layers.Dense(1, activation='sigmoid') \n",
    "  ])\n",
    "\n",
    "  \n",
    "  model.compile(optimizer= tf.keras.optimizers.Adam(learning_rate=0.001),\n",
    "                loss='binary_crossentropy',metrics=['accuracy']) \n",
    "  return model"
   ]
  },
  {
   "cell_type": "code",
   "execution_count": 16,
   "id": "6a39c9e7",
   "metadata": {},
   "outputs": [
    {
     "name": "stdout",
     "output_type": "stream",
     "text": [
      "Model: \"sequential\"\n",
      "_________________________________________________________________\n",
      " Layer (type)                Output Shape              Param #   \n",
      "=================================================================\n",
      " conv2d (Conv2D)             (None, 148, 148, 16)      448       \n",
      "                                                                 \n",
      " max_pooling2d (MaxPooling2  (None, 74, 74, 16)        0         \n",
      " D)                                                              \n",
      "                                                                 \n",
      " conv2d_1 (Conv2D)           (None, 72, 72, 32)        4640      \n",
      "                                                                 \n",
      " max_pooling2d_1 (MaxPoolin  (None, 36, 36, 32)        0         \n",
      " g2D)                                                            \n",
      "                                                                 \n",
      " conv2d_2 (Conv2D)           (None, 34, 34, 64)        18496     \n",
      "                                                                 \n",
      " max_pooling2d_2 (MaxPoolin  (None, 17, 17, 64)        0         \n",
      " g2D)                                                            \n",
      "                                                                 \n",
      " conv2d_3 (Conv2D)           (None, 15, 15, 128)       73856     \n",
      "                                                                 \n",
      " max_pooling2d_3 (MaxPoolin  (None, 7, 7, 128)         0         \n",
      " g2D)                                                            \n",
      "                                                                 \n",
      " flatten (Flatten)           (None, 6272)              0         \n",
      "                                                                 \n",
      " dense (Dense)               (None, 512)               3211776   \n",
      "                                                                 \n",
      " dense_1 (Dense)             (None, 1)                 513       \n",
      "                                                                 \n",
      "=================================================================\n",
      "Total params: 3309729 (12.63 MB)\n",
      "Trainable params: 3309729 (12.63 MB)\n",
      "Non-trainable params: 0 (0.00 Byte)\n",
      "_________________________________________________________________\n"
     ]
    }
   ],
   "source": [
    "model = create_model()\n",
    "model.summary()"
   ]
  },
  {
   "cell_type": "code",
   "execution_count": 21,
   "id": "a1793ae3",
   "metadata": {},
   "outputs": [
    {
     "name": "stdout",
     "output_type": "stream",
     "text": [
      "Epoch 1/15\n",
      "1063/1124 [===========================>..] - ETA: 25s - loss: 0.6402 - accuracy: 0.6152"
     ]
    },
    {
     "name": "stderr",
     "output_type": "stream",
     "text": [
      "C:\\Users\\USER\\anaconda3\\envs\\tf\\lib\\site-packages\\PIL\\TiffImagePlugin.py:866: UserWarning: Truncated File Read\n",
      "  warnings.warn(str(msg))\n"
     ]
    },
    {
     "name": "stdout",
     "output_type": "stream",
     "text": [
      "1124/1124 [==============================] - 496s 440ms/step - loss: 0.6354 - accuracy: 0.6202 - val_loss: 0.5574 - val_accuracy: 0.7341\n",
      "Epoch 2/15\n",
      "1124/1124 [==============================] - 422s 375ms/step - loss: 0.4766 - accuracy: 0.7729 - val_loss: 0.4417 - val_accuracy: 0.8018\n",
      "Epoch 3/15\n",
      "1124/1124 [==============================] - 392s 349ms/step - loss: 0.3772 - accuracy: 0.8300 - val_loss: 0.4375 - val_accuracy: 0.8106\n",
      "Epoch 4/15\n",
      "1124/1124 [==============================] - 396s 352ms/step - loss: 0.3047 - accuracy: 0.8688 - val_loss: 0.3252 - val_accuracy: 0.8610\n",
      "Epoch 5/15\n",
      "1124/1124 [==============================] - 419s 373ms/step - loss: 0.2431 - accuracy: 0.8975 - val_loss: 0.3101 - val_accuracy: 0.8771\n",
      "Epoch 6/15\n",
      "1124/1124 [==============================] - 420s 373ms/step - loss: 0.1793 - accuracy: 0.9277 - val_loss: 0.3549 - val_accuracy: 0.8634\n",
      "Epoch 7/15\n",
      "1124/1124 [==============================] - 415s 370ms/step - loss: 0.1243 - accuracy: 0.9513 - val_loss: 0.3400 - val_accuracy: 0.8678\n",
      "Epoch 8/15\n",
      "1124/1124 [==============================] - 418s 372ms/step - loss: 0.0825 - accuracy: 0.9686 - val_loss: 0.4860 - val_accuracy: 0.8622\n",
      "Epoch 9/15\n",
      "1124/1124 [==============================] - 430s 382ms/step - loss: 0.0605 - accuracy: 0.9781 - val_loss: 0.4855 - val_accuracy: 0.8686\n",
      "Epoch 10/15\n",
      "1124/1124 [==============================] - 396s 353ms/step - loss: 0.0484 - accuracy: 0.9833 - val_loss: 0.5865 - val_accuracy: 0.8726\n",
      "Epoch 11/15\n",
      "1124/1124 [==============================] - 384s 341ms/step - loss: 0.0431 - accuracy: 0.9866 - val_loss: 0.6079 - val_accuracy: 0.8670\n",
      "Epoch 12/15\n",
      "1124/1124 [==============================] - 391s 348ms/step - loss: 0.0403 - accuracy: 0.9853 - val_loss: 0.5268 - val_accuracy: 0.8634\n",
      "Epoch 13/15\n",
      "1124/1124 [==============================] - 386s 343ms/step - loss: 0.0366 - accuracy: 0.9875 - val_loss: 0.7324 - val_accuracy: 0.8686\n",
      "Epoch 14/15\n",
      "1124/1124 [==============================] - 383s 341ms/step - loss: 0.0363 - accuracy: 0.9873 - val_loss: 0.6407 - val_accuracy: 0.8630\n",
      "Epoch 15/15\n",
      "1124/1124 [==============================] - 383s 340ms/step - loss: 0.0309 - accuracy: 0.9900 - val_loss: 0.6850 - val_accuracy: 0.8670\n"
     ]
    }
   ],
   "source": [
    "#from tensorflow.keras.preprocessing.image import load_image\n",
    "from PIL import Image\n",
    "history = model.fit(train_generator,\n",
    "                    epochs=15,\n",
    "                    verbose=1,\n",
    "                    validation_data=validation_generator)"
   ]
  },
  {
   "cell_type": "code",
   "execution_count": 30,
   "id": "e0c7a07f",
   "metadata": {},
   "outputs": [
    {
     "data": {
      "image/png": "[encoded data removed]",
      "text/plain": [
       "<Figure size 640x480 with 1 Axes>"
      ]
     },
     "metadata": {},
     "output_type": "display_data"
    },
    {
     "name": "stdout",
     "output_type": "stream",
     "text": [
      "\n"
     ]
    },
    {
     "data": {
      "image/png": "[encoded data removed]",
      "text/plain": [
       "<Figure size 640x480 with 1 Axes>"
      ]
     },
     "metadata": {},
     "output_type": "display_data"
    }
   ],
   "source": [
    "acc=history.history['accuracy']\n",
    "val_acc=history.history['val_accuracy']\n",
    "loss=history.history['loss']\n",
    "val_loss=history.history['val_loss']\n",
    "\n",
    "epochs=range(len(acc)) # Get number of epochs\n",
    "\n",
    "plt.plot(epochs, acc, 'r', \"Training Accuracy\")\n",
    "plt.plot(epochs, val_acc, 'b', \"Validation Accuracy\")\n",
    "plt.title('Training and validation accuracy')\n",
    "plt.show()\n",
    "print(\"\")\n",
    "\n",
    "#------------------------------------------------\n",
    "# Plot training and validation loss per epoch\n",
    "#------------------------------------------------\n",
    "plt.plot(epochs, loss, 'r', \"Training Loss\")\n",
    "plt.plot(epochs, val_loss, 'b', \"Validation Loss\")\n",
    "plt.show()"
   ]
  },
  {
   "cell_type": "code",
   "execution_count": 31,
   "id": "2fa45833",
   "metadata": {},
   "outputs": [],
   "source": [
    "from tensorflow.keras.preprocessing import image"
   ]
  },
  {
   "cell_type": "code",
   "execution_count": 34,
   "id": "611d6f68",
   "metadata": {},
   "outputs": [
    {
     "name": "stdout",
     "output_type": "stream",
     "text": [
      "1/1 [==============================] - 0s 66ms/step\n",
      "Class 0: Cat\n"
     ]
    }
   ],
   "source": [
    "img_path = r\"C:\\Users\\USER\\Documents\\cat.jpg\"\n",
    "img = image.load_img(img_path, target_size=(150, 150))\n",
    "img_array = image.img_to_array(img)\n",
    "img_array = np.expand_dims(img_array, axis=0)  # Add batch dimension\n",
    "img_array = img_array / 255.0  # Normalize the pixel values if needed\n",
    "\n",
    "# Make the prediction\n",
    "predictions = model.predict(img_array)\n",
    "\n",
    "# Interpret the prediction\n",
    "if predictions[0] > 0.5:\n",
    "    print(\"Class 1: Dog\")\n",
    "else:\n",
    "    print(\"Class 0: Cat\")"
   ]
  },
  {
   "cell_type": "code",
   "execution_count": 35,
   "id": "ed67424b",
   "metadata": {},
   "outputs": [
    {
     "name": "stderr",
     "output_type": "stream",
     "text": [
      "C:\\Users\\USER\\anaconda3\\envs\\tf\\lib\\site-packages\\keras\\src\\engine\\training.py:3000: UserWarning: You are saving your model as an HDF5 file via `model.save()`. This file format is considered legacy. We recommend using instead the native Keras format, e.g. `model.save('my_model.keras')`.\n",
      "  saving_api.save_model(\n"
     ]
    }
   ],
   "source": [
    "model.save(\"catvsdog.h5\")"
   ]
  },
  {
   "cell_type": "code",
   "execution_count": 39,
   "id": "15f1b69d",
   "metadata": {},
   "outputs": [
    {
     "name": "stdout",
     "output_type": "stream",
     "text": [
      "1/1 [==============================] - 0s 211ms/step\n",
      "Class 1: Dog\n"
     ]
    }
   ],
   "source": [
    "mymodel = tf.keras.models.load_model('catvsdog.h5')\n",
    "img_path =r\"C:\\Users\\USER\\Downloads\\pexels-tanika-3687770.jpg\"\n",
    "img = image.load_img(img_path, target_size=(150, 150))\n",
    "img_array = image.img_to_array(img)\n",
    "img_array = np.expand_dims(img_array, axis=0)  # Add batch dimension\n",
    "img_array = img_array / 255.0  # Normalize the pixel values if needed\n",
    "\n",
    "# Make the prediction\n",
    "predictions = mymodel.predict(img_array)\n",
    "\n",
    "# Interpret the prediction\n",
    "if predictions[0] > 0.5:\n",
    "    print(\"Class 1: Dog\")\n",
    "else:\n",
    "    print(\"Class 0: Cat\")"
   ]
  },
  {
   "cell_type": "code",
   "execution_count": 11,
   "id": "45abfc3b",
   "metadata": {},
   "outputs": [
    {
     "name": "stdout",
     "output_type": "stream",
     "text": [
      "1/1 [==============================] - 1s 613ms/step\n",
      "Class 1: Dog\n"
     ]
    }
   ],
   "source": [
    "import tensorflow as tf\n",
    "from tensorflow.keras.preprocessing import image\n",
    "import numpy as np\n",
    "\n",
    "\n",
    "mymodel = tf.keras.models.load_model(r\"C:\\Users\\USER\\Desktop\\python\\catvsdog.h5\")\n",
    "img_path =r\"C:\\Users\\USER\\Downloads\\pexels-tanika-3687770.jpg\"\n",
    "img = image.load_img(img_path, target_size=(150, 150))\n",
    "img_array = image.img_to_array(img)\n",
    "img_array = np.expand_dims(img_array, axis=0)  # Add batch dimension\n",
    "img_array = img_array / 255.0  # Normalize the pixel values if needed\n",
    "\n",
    "# Make the prediction\n",
    "predictions = mymodel.predict(img_array)\n",
    "\n",
    "# Interpret the prediction\n",
    "if predictions[0] > 0.5:\n",
    "    print(\"Class 1: Dog\")\n",
    "else:\n",
    "    print(\"Class 0: Cat\")\n"
   ]
  },
  {
   "cell_type": "code",
   "execution_count": null,
   "id": "5a09c42d",
   "metadata": {},
   "outputs": [],
   "source": []
  }
 ],
 "metadata": {
  "kernelspec": {
   "display_name": "Python 3 (ipykernel)",
   "language": "python",
   "name": "python3"
  },
  "language_info": {
   "codemirror_mode": {
    "name": "ipython",
    "version": 3
   },
   "file_extension": ".py",
   "mimetype": "text/x-python",
   "name": "python",
   "nbconvert_exporter": "python",
   "pygments_lexer": "ipython3",
   "version": "3.10.12"
  }
 },
 "nbformat": 4,
 "nbformat_minor": 5
}
